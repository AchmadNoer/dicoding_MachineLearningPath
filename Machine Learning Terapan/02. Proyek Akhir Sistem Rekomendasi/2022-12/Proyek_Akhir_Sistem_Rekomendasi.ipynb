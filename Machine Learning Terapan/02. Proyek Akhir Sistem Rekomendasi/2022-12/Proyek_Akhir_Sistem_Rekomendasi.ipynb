{
  "metadata": {
    "kernelspec": {
      "language": "python",
      "display_name": "Python 3",
      "name": "python3"
    },
    "language_info": {
      "name": "python",
      "version": "3.7.12",
      "mimetype": "text/x-python",
      "codemirror_mode": {
        "name": "ipython",
        "version": 3
      },
      "pygments_lexer": "ipython3",
      "nbconvert_exporter": "python",
      "file_extension": ".py"
    },
    "colab": {
      "provenance": []
    }
  },
  "nbformat_minor": 0,
  "nbformat": 4,
  "cells": [
    {
      "cell_type": "markdown",
      "source": [
        "Analyze sales data from more than 16,500 games from Vgchartz and corresponding ratings from Metacritic.\n",
        "* **Name** : Name of the game\n",
        "* **Platform** : Console on which the game is running\n",
        "* **Year_of_Release** : Year of the game released\n",
        "* **Genre** : Game's category\n",
        "* **Publisher** : Publisher\n",
        "* **NA_Sales** : Game sales in North America (in millions of units)\n",
        "* **EU_Sales** : Game sales in the European Union (in millions of units)\n",
        "* **JP_Sales** : Game sales in Japan (in millions of units)\n",
        "* **Other_Sales** : Game sales in the rest of the world\n",
        "* **Global_Sales** : Total sales in the world (in millions of units)\n",
        "* **Critic_Score** : Aggregate score compiled by Metacritic staff\n",
        "* **Critic_Count** : The number of critics used in coming up with the Critic_score\n",
        "* **User_Score** : Score by Metacritic's subscribers\n",
        "* **User_Count** : Number of Metacritic's subscribers who gave the user_score\n",
        "* **Developer** : Party responsible for creating the game\n",
        "* **Rating** : The ESRB ratings"
      ],
      "metadata": {
        "id": "DHsbvrtfZNov"
      }
    },
    {
      "cell_type": "markdown",
      "source": [
        "# Data Loading"
      ],
      "metadata": {
        "id": "ppPnG5hIZNo1"
      }
    },
    {
      "cell_type": "code",
      "source": [
        "import pandas as pd\n",
        "import matplotlib.pyplot as plt\n",
        "\n",
        "import seaborn as sns\n",
        "sns.set_theme(style=\"whitegrid\")\n",
        "\n",
        "import warnings\n",
        "warnings.filterwarnings('ignore')"
      ],
      "metadata": {
        "execution": {
          "iopub.status.busy": "2022-12-02T23:41:22.076941Z",
          "iopub.execute_input": "2022-12-02T23:41:22.077360Z",
          "iopub.status.idle": "2022-12-02T23:41:22.083834Z",
          "shell.execute_reply.started": "2022-12-02T23:41:22.077325Z",
          "shell.execute_reply": "2022-12-02T23:41:22.082720Z"
        },
        "trusted": true,
        "id": "rmf1pmM9ZNo3"
      },
      "execution_count": null,
      "outputs": []
    },
    {
      "cell_type": "code",
      "source": [
        "games = pd.read_csv(\"/kaggle/input/video-game-sales-with-ratings/Video_Games_Sales_as_at_22_Dec_2016.csv\")\n",
        "games"
      ],
      "metadata": {
        "execution": {
          "iopub.status.busy": "2022-12-02T23:41:22.100955Z",
          "iopub.execute_input": "2022-12-02T23:41:22.101575Z",
          "iopub.status.idle": "2022-12-02T23:41:22.179802Z",
          "shell.execute_reply.started": "2022-12-02T23:41:22.101537Z",
          "shell.execute_reply": "2022-12-02T23:41:22.178535Z"
        },
        "trusted": true,
        "id": "X9CazEcVZNo6",
        "outputId": "55d0e99d-4844-4c45-ad66-a58a2f5de132"
      },
      "execution_count": null,
      "outputs": [
        {
          "execution_count": 175,
          "output_type": "execute_result",
          "data": {
            "text/plain": "                                Name Platform  Year_of_Release         Genre  \\\n0                         Wii Sports      Wii           2006.0        Sports   \n1                  Super Mario Bros.      NES           1985.0      Platform   \n2                     Mario Kart Wii      Wii           2008.0        Racing   \n3                  Wii Sports Resort      Wii           2009.0        Sports   \n4           Pokemon Red/Pokemon Blue       GB           1996.0  Role-Playing   \n...                              ...      ...              ...           ...   \n16714  Samurai Warriors: Sanada Maru      PS3           2016.0        Action   \n16715               LMA Manager 2007     X360           2006.0        Sports   \n16716        Haitaka no Psychedelica      PSV           2016.0     Adventure   \n16717               Spirits & Spells      GBA           2003.0      Platform   \n16718            Winning Post 8 2016      PSV           2016.0    Simulation   \n\n          Publisher  NA_Sales  EU_Sales  JP_Sales  Other_Sales  Global_Sales  \\\n0          Nintendo     41.36     28.96      3.77         8.45         82.53   \n1          Nintendo     29.08      3.58      6.81         0.77         40.24   \n2          Nintendo     15.68     12.76      3.79         3.29         35.52   \n3          Nintendo     15.61     10.93      3.28         2.95         32.77   \n4          Nintendo     11.27      8.89     10.22         1.00         31.37   \n...             ...       ...       ...       ...          ...           ...   \n16714    Tecmo Koei      0.00      0.00      0.01         0.00          0.01   \n16715   Codemasters      0.00      0.01      0.00         0.00          0.01   \n16716  Idea Factory      0.00      0.00      0.01         0.00          0.01   \n16717       Wanadoo      0.01      0.00      0.00         0.00          0.01   \n16718    Tecmo Koei      0.00      0.00      0.01         0.00          0.01   \n\n       Critic_Score  Critic_Count User_Score  User_Count Developer Rating  \n0              76.0          51.0          8       322.0  Nintendo      E  \n1               NaN           NaN        NaN         NaN       NaN    NaN  \n2              82.0          73.0        8.3       709.0  Nintendo      E  \n3              80.0          73.0          8       192.0  Nintendo      E  \n4               NaN           NaN        NaN         NaN       NaN    NaN  \n...             ...           ...        ...         ...       ...    ...  \n16714           NaN           NaN        NaN         NaN       NaN    NaN  \n16715           NaN           NaN        NaN         NaN       NaN    NaN  \n16716           NaN           NaN        NaN         NaN       NaN    NaN  \n16717           NaN           NaN        NaN         NaN       NaN    NaN  \n16718           NaN           NaN        NaN         NaN       NaN    NaN  \n\n[16719 rows x 16 columns]",
            "text/html": "<div>\n<style scoped>\n    .dataframe tbody tr th:only-of-type {\n        vertical-align: middle;\n    }\n\n    .dataframe tbody tr th {\n        vertical-align: top;\n    }\n\n    .dataframe thead th {\n        text-align: right;\n    }\n</style>\n<table border=\"1\" class=\"dataframe\">\n  <thead>\n    <tr style=\"text-align: right;\">\n      <th></th>\n      <th>Name</th>\n      <th>Platform</th>\n      <th>Year_of_Release</th>\n      <th>Genre</th>\n      <th>Publisher</th>\n      <th>NA_Sales</th>\n      <th>EU_Sales</th>\n      <th>JP_Sales</th>\n      <th>Other_Sales</th>\n      <th>Global_Sales</th>\n      <th>Critic_Score</th>\n      <th>Critic_Count</th>\n      <th>User_Score</th>\n      <th>User_Count</th>\n      <th>Developer</th>\n      <th>Rating</th>\n    </tr>\n  </thead>\n  <tbody>\n    <tr>\n      <th>0</th>\n      <td>Wii Sports</td>\n      <td>Wii</td>\n      <td>2006.0</td>\n      <td>Sports</td>\n      <td>Nintendo</td>\n      <td>41.36</td>\n      <td>28.96</td>\n      <td>3.77</td>\n      <td>8.45</td>\n      <td>82.53</td>\n      <td>76.0</td>\n      <td>51.0</td>\n      <td>8</td>\n      <td>322.0</td>\n      <td>Nintendo</td>\n      <td>E</td>\n    </tr>\n    <tr>\n      <th>1</th>\n      <td>Super Mario Bros.</td>\n      <td>NES</td>\n      <td>1985.0</td>\n      <td>Platform</td>\n      <td>Nintendo</td>\n      <td>29.08</td>\n      <td>3.58</td>\n      <td>6.81</td>\n      <td>0.77</td>\n      <td>40.24</td>\n      <td>NaN</td>\n      <td>NaN</td>\n      <td>NaN</td>\n      <td>NaN</td>\n      <td>NaN</td>\n      <td>NaN</td>\n    </tr>\n    <tr>\n      <th>2</th>\n      <td>Mario Kart Wii</td>\n      <td>Wii</td>\n      <td>2008.0</td>\n      <td>Racing</td>\n      <td>Nintendo</td>\n      <td>15.68</td>\n      <td>12.76</td>\n      <td>3.79</td>\n      <td>3.29</td>\n      <td>35.52</td>\n      <td>82.0</td>\n      <td>73.0</td>\n      <td>8.3</td>\n      <td>709.0</td>\n      <td>Nintendo</td>\n      <td>E</td>\n    </tr>\n    <tr>\n      <th>3</th>\n      <td>Wii Sports Resort</td>\n      <td>Wii</td>\n      <td>2009.0</td>\n      <td>Sports</td>\n      <td>Nintendo</td>\n      <td>15.61</td>\n      <td>10.93</td>\n      <td>3.28</td>\n      <td>2.95</td>\n      <td>32.77</td>\n      <td>80.0</td>\n      <td>73.0</td>\n      <td>8</td>\n      <td>192.0</td>\n      <td>Nintendo</td>\n      <td>E</td>\n    </tr>\n    <tr>\n      <th>4</th>\n      <td>Pokemon Red/Pokemon Blue</td>\n      <td>GB</td>\n      <td>1996.0</td>\n      <td>Role-Playing</td>\n      <td>Nintendo</td>\n      <td>11.27</td>\n      <td>8.89</td>\n      <td>10.22</td>\n      <td>1.00</td>\n      <td>31.37</td>\n      <td>NaN</td>\n      <td>NaN</td>\n      <td>NaN</td>\n      <td>NaN</td>\n      <td>NaN</td>\n      <td>NaN</td>\n    </tr>\n    <tr>\n      <th>...</th>\n      <td>...</td>\n      <td>...</td>\n      <td>...</td>\n      <td>...</td>\n      <td>...</td>\n      <td>...</td>\n      <td>...</td>\n      <td>...</td>\n      <td>...</td>\n      <td>...</td>\n      <td>...</td>\n      <td>...</td>\n      <td>...</td>\n      <td>...</td>\n      <td>...</td>\n      <td>...</td>\n    </tr>\n    <tr>\n      <th>16714</th>\n      <td>Samurai Warriors: Sanada Maru</td>\n      <td>PS3</td>\n      <td>2016.0</td>\n      <td>Action</td>\n      <td>Tecmo Koei</td>\n      <td>0.00</td>\n      <td>0.00</td>\n      <td>0.01</td>\n      <td>0.00</td>\n      <td>0.01</td>\n      <td>NaN</td>\n      <td>NaN</td>\n      <td>NaN</td>\n      <td>NaN</td>\n      <td>NaN</td>\n      <td>NaN</td>\n    </tr>\n    <tr>\n      <th>16715</th>\n      <td>LMA Manager 2007</td>\n      <td>X360</td>\n      <td>2006.0</td>\n      <td>Sports</td>\n      <td>Codemasters</td>\n      <td>0.00</td>\n      <td>0.01</td>\n      <td>0.00</td>\n      <td>0.00</td>\n      <td>0.01</td>\n      <td>NaN</td>\n      <td>NaN</td>\n      <td>NaN</td>\n      <td>NaN</td>\n      <td>NaN</td>\n      <td>NaN</td>\n    </tr>\n    <tr>\n      <th>16716</th>\n      <td>Haitaka no Psychedelica</td>\n      <td>PSV</td>\n      <td>2016.0</td>\n      <td>Adventure</td>\n      <td>Idea Factory</td>\n      <td>0.00</td>\n      <td>0.00</td>\n      <td>0.01</td>\n      <td>0.00</td>\n      <td>0.01</td>\n      <td>NaN</td>\n      <td>NaN</td>\n      <td>NaN</td>\n      <td>NaN</td>\n      <td>NaN</td>\n      <td>NaN</td>\n    </tr>\n    <tr>\n      <th>16717</th>\n      <td>Spirits &amp; Spells</td>\n      <td>GBA</td>\n      <td>2003.0</td>\n      <td>Platform</td>\n      <td>Wanadoo</td>\n      <td>0.01</td>\n      <td>0.00</td>\n      <td>0.00</td>\n      <td>0.00</td>\n      <td>0.01</td>\n      <td>NaN</td>\n      <td>NaN</td>\n      <td>NaN</td>\n      <td>NaN</td>\n      <td>NaN</td>\n      <td>NaN</td>\n    </tr>\n    <tr>\n      <th>16718</th>\n      <td>Winning Post 8 2016</td>\n      <td>PSV</td>\n      <td>2016.0</td>\n      <td>Simulation</td>\n      <td>Tecmo Koei</td>\n      <td>0.00</td>\n      <td>0.00</td>\n      <td>0.01</td>\n      <td>0.00</td>\n      <td>0.01</td>\n      <td>NaN</td>\n      <td>NaN</td>\n      <td>NaN</td>\n      <td>NaN</td>\n      <td>NaN</td>\n      <td>NaN</td>\n    </tr>\n  </tbody>\n</table>\n<p>16719 rows × 16 columns</p>\n</div>"
          },
          "metadata": {}
        }
      ]
    },
    {
      "cell_type": "code",
      "source": [
        "print(\"Ukuran DataFrame:\", games.shape)"
      ],
      "metadata": {
        "execution": {
          "iopub.status.busy": "2022-12-02T23:41:22.181611Z",
          "iopub.execute_input": "2022-12-02T23:41:22.182349Z",
          "iopub.status.idle": "2022-12-02T23:41:22.188204Z",
          "shell.execute_reply.started": "2022-12-02T23:41:22.182307Z",
          "shell.execute_reply": "2022-12-02T23:41:22.186757Z"
        },
        "trusted": true,
        "id": "OGEkH2RAZNo9",
        "outputId": "0958087f-c243-4834-8c2c-ebc9b10aa91f"
      },
      "execution_count": null,
      "outputs": [
        {
          "name": "stdout",
          "text": "Ukuran DataFrame: (16719, 16)\n",
          "output_type": "stream"
        }
      ]
    },
    {
      "cell_type": "markdown",
      "source": [
        "# Data Cleaning"
      ],
      "metadata": {
        "id": "kReowKamZNo-"
      }
    },
    {
      "cell_type": "code",
      "source": [
        "games.info()"
      ],
      "metadata": {
        "execution": {
          "iopub.status.busy": "2022-12-02T23:41:22.189882Z",
          "iopub.execute_input": "2022-12-02T23:41:22.190237Z",
          "iopub.status.idle": "2022-12-02T23:41:22.218042Z",
          "shell.execute_reply.started": "2022-12-02T23:41:22.190188Z",
          "shell.execute_reply": "2022-12-02T23:41:22.216560Z"
        },
        "trusted": true,
        "id": "E4QGGJbvZNo_",
        "outputId": "6c210030-0515-487d-aa38-19730987fd23"
      },
      "execution_count": null,
      "outputs": [
        {
          "name": "stdout",
          "text": "<class 'pandas.core.frame.DataFrame'>\nRangeIndex: 16719 entries, 0 to 16718\nData columns (total 16 columns):\n #   Column           Non-Null Count  Dtype  \n---  ------           --------------  -----  \n 0   Name             16717 non-null  object \n 1   Platform         16719 non-null  object \n 2   Year_of_Release  16450 non-null  float64\n 3   Genre            16717 non-null  object \n 4   Publisher        16665 non-null  object \n 5   NA_Sales         16719 non-null  float64\n 6   EU_Sales         16719 non-null  float64\n 7   JP_Sales         16719 non-null  float64\n 8   Other_Sales      16719 non-null  float64\n 9   Global_Sales     16719 non-null  float64\n 10  Critic_Score     8137 non-null   float64\n 11  Critic_Count     8137 non-null   float64\n 12  User_Score       10015 non-null  object \n 13  User_Count       7590 non-null   float64\n 14  Developer        10096 non-null  object \n 15  Rating           9950 non-null   object \ndtypes: float64(9), object(7)\nmemory usage: 2.0+ MB\n",
          "output_type": "stream"
        }
      ]
    },
    {
      "cell_type": "markdown",
      "source": [
        "## 1.) Dropping Unused Columns"
      ],
      "metadata": {
        "id": "m_z6eevDZNpA"
      }
    },
    {
      "cell_type": "code",
      "source": [
        "games.drop(['Publisher',\n",
        "            'NA_Sales',\n",
        "            'EU_Sales',\n",
        "            'JP_Sales',\n",
        "            'Other_Sales',\n",
        "            'Critic_Count',\n",
        "            'User_Score',\n",
        "            'User_Count',\n",
        "            'Developer',\n",
        "            'Rating'], axis=1, inplace=True)\n",
        "print(\"Ukuran DataFrame setelah drop kolom:\", games.shape)"
      ],
      "metadata": {
        "execution": {
          "iopub.status.busy": "2022-12-02T23:41:22.220654Z",
          "iopub.execute_input": "2022-12-02T23:41:22.221060Z",
          "iopub.status.idle": "2022-12-02T23:41:22.231594Z",
          "shell.execute_reply.started": "2022-12-02T23:41:22.221023Z",
          "shell.execute_reply": "2022-12-02T23:41:22.230251Z"
        },
        "trusted": true,
        "id": "fDmAnaCQZNpA",
        "outputId": "09352258-9f22-4b1a-b86d-75cefdbdfa52"
      },
      "execution_count": null,
      "outputs": [
        {
          "name": "stdout",
          "text": "Ukuran DataFrame setelah drop kolom: (16719, 6)\n",
          "output_type": "stream"
        }
      ]
    },
    {
      "cell_type": "markdown",
      "source": [
        "## 2.) Checking Missing Values"
      ],
      "metadata": {
        "id": "TWzzUr2CZNpC"
      }
    },
    {
      "cell_type": "code",
      "source": [
        "games.isna().sum()"
      ],
      "metadata": {
        "execution": {
          "iopub.status.busy": "2022-12-02T23:41:22.233356Z",
          "iopub.execute_input": "2022-12-02T23:41:22.233785Z",
          "iopub.status.idle": "2022-12-02T23:41:22.254633Z",
          "shell.execute_reply.started": "2022-12-02T23:41:22.233732Z",
          "shell.execute_reply": "2022-12-02T23:41:22.253658Z"
        },
        "trusted": true,
        "id": "7Z_hDKwCZNpD",
        "outputId": "3f7b70fe-5b93-4c7e-a4ec-ccea5ab23aa6"
      },
      "execution_count": null,
      "outputs": [
        {
          "execution_count": 179,
          "output_type": "execute_result",
          "data": {
            "text/plain": "Name                  2\nPlatform              0\nYear_of_Release     269\nGenre                 2\nGlobal_Sales          0\nCritic_Score       8582\ndtype: int64"
          },
          "metadata": {}
        }
      ]
    },
    {
      "cell_type": "code",
      "source": [
        "games[games.isnull().any(axis=1)].head(3)"
      ],
      "metadata": {
        "execution": {
          "iopub.status.busy": "2022-12-02T23:41:22.256303Z",
          "iopub.execute_input": "2022-12-02T23:41:22.256767Z",
          "iopub.status.idle": "2022-12-02T23:41:22.276607Z",
          "shell.execute_reply.started": "2022-12-02T23:41:22.256716Z",
          "shell.execute_reply": "2022-12-02T23:41:22.275182Z"
        },
        "trusted": true,
        "id": "GHl0RMXpZNpE",
        "outputId": "c22b2318-6096-46a8-d292-d1d0eff402b7"
      },
      "execution_count": null,
      "outputs": [
        {
          "execution_count": 180,
          "output_type": "execute_result",
          "data": {
            "text/plain": "                       Name Platform  Year_of_Release         Genre  \\\n1         Super Mario Bros.      NES           1985.0      Platform   \n4  Pokemon Red/Pokemon Blue       GB           1996.0  Role-Playing   \n5                    Tetris       GB           1989.0        Puzzle   \n\n   Global_Sales  Critic_Score  \n1         40.24           NaN  \n4         31.37           NaN  \n5         30.26           NaN  ",
            "text/html": "<div>\n<style scoped>\n    .dataframe tbody tr th:only-of-type {\n        vertical-align: middle;\n    }\n\n    .dataframe tbody tr th {\n        vertical-align: top;\n    }\n\n    .dataframe thead th {\n        text-align: right;\n    }\n</style>\n<table border=\"1\" class=\"dataframe\">\n  <thead>\n    <tr style=\"text-align: right;\">\n      <th></th>\n      <th>Name</th>\n      <th>Platform</th>\n      <th>Year_of_Release</th>\n      <th>Genre</th>\n      <th>Global_Sales</th>\n      <th>Critic_Score</th>\n    </tr>\n  </thead>\n  <tbody>\n    <tr>\n      <th>1</th>\n      <td>Super Mario Bros.</td>\n      <td>NES</td>\n      <td>1985.0</td>\n      <td>Platform</td>\n      <td>40.24</td>\n      <td>NaN</td>\n    </tr>\n    <tr>\n      <th>4</th>\n      <td>Pokemon Red/Pokemon Blue</td>\n      <td>GB</td>\n      <td>1996.0</td>\n      <td>Role-Playing</td>\n      <td>31.37</td>\n      <td>NaN</td>\n    </tr>\n    <tr>\n      <th>5</th>\n      <td>Tetris</td>\n      <td>GB</td>\n      <td>1989.0</td>\n      <td>Puzzle</td>\n      <td>30.26</td>\n      <td>NaN</td>\n    </tr>\n  </tbody>\n</table>\n</div>"
          },
          "metadata": {}
        }
      ]
    },
    {
      "cell_type": "code",
      "source": [
        "games.dropna(inplace=True)\n",
        "print(\"Ukuran DataFrame setelah cleaning:\", games.shape)"
      ],
      "metadata": {
        "execution": {
          "iopub.status.busy": "2022-12-02T23:41:22.277746Z",
          "iopub.execute_input": "2022-12-02T23:41:22.278458Z",
          "iopub.status.idle": "2022-12-02T23:41:22.291476Z",
          "shell.execute_reply.started": "2022-12-02T23:41:22.278414Z",
          "shell.execute_reply": "2022-12-02T23:41:22.290161Z"
        },
        "trusted": true,
        "id": "AIGNDGelZNpG",
        "outputId": "ab0437b7-6751-43f2-fea2-f6f55925580d"
      },
      "execution_count": null,
      "outputs": [
        {
          "name": "stdout",
          "text": "Ukuran DataFrame setelah cleaning: (7983, 6)\n",
          "output_type": "stream"
        }
      ]
    },
    {
      "cell_type": "markdown",
      "source": [
        "## 3.) Checking Duplicated Values"
      ],
      "metadata": {
        "id": "V6Qu7HA3ZNpH"
      }
    },
    {
      "cell_type": "code",
      "source": [
        "games.duplicated().sum()"
      ],
      "metadata": {
        "execution": {
          "iopub.status.busy": "2022-12-02T23:41:22.293316Z",
          "iopub.execute_input": "2022-12-02T23:41:22.293818Z",
          "iopub.status.idle": "2022-12-02T23:41:22.309243Z",
          "shell.execute_reply.started": "2022-12-02T23:41:22.293750Z",
          "shell.execute_reply": "2022-12-02T23:41:22.308195Z"
        },
        "trusted": true,
        "id": "Tu1wqyX1ZNpI",
        "outputId": "d8fa4510-860c-4f74-9950-b1f97d434033"
      },
      "execution_count": null,
      "outputs": [
        {
          "execution_count": 182,
          "output_type": "execute_result",
          "data": {
            "text/plain": "0"
          },
          "metadata": {}
        }
      ]
    },
    {
      "cell_type": "code",
      "source": [
        "games.drop_duplicates(inplace=True)\n",
        "print(\"Ukuran DataFrame setelah cleaning:\", games.shape)"
      ],
      "metadata": {
        "execution": {
          "iopub.status.busy": "2022-12-02T23:41:22.310236Z",
          "iopub.execute_input": "2022-12-02T23:41:22.310732Z",
          "iopub.status.idle": "2022-12-02T23:41:22.324232Z",
          "shell.execute_reply.started": "2022-12-02T23:41:22.310685Z",
          "shell.execute_reply": "2022-12-02T23:41:22.322573Z"
        },
        "trusted": true,
        "id": "VJY6I_3GZNpJ",
        "outputId": "f32148ff-d8bd-4907-9641-55ea609b3e18"
      },
      "execution_count": null,
      "outputs": [
        {
          "name": "stdout",
          "text": "Ukuran DataFrame setelah cleaning: (7983, 6)\n",
          "output_type": "stream"
        }
      ]
    },
    {
      "cell_type": "markdown",
      "source": [
        "## 4.) Grouping by Platform"
      ],
      "metadata": {
        "id": "__wqN18BZNpL"
      }
    },
    {
      "cell_type": "code",
      "source": [
        "print(\"Berbagai jenis platform:\", games['Platform'].unique())"
      ],
      "metadata": {
        "execution": {
          "iopub.status.busy": "2022-12-02T23:41:22.330469Z",
          "iopub.execute_input": "2022-12-02T23:41:22.330910Z",
          "iopub.status.idle": "2022-12-02T23:41:22.338378Z",
          "shell.execute_reply.started": "2022-12-02T23:41:22.330871Z",
          "shell.execute_reply": "2022-12-02T23:41:22.337022Z"
        },
        "trusted": true,
        "id": "eoS0hZNEZNpM",
        "outputId": "ea9936e7-3688-49c8-f5b2-4a283096bde3"
      },
      "execution_count": null,
      "outputs": [
        {
          "name": "stdout",
          "text": "Berbagai jenis platform: ['Wii' 'DS' 'X360' 'PS3' 'PS2' '3DS' 'PS4' 'PS' 'XB' 'PC' 'PSP' 'WiiU'\n 'GC' 'GBA' 'XOne' 'PSV' 'DC']\n",
          "output_type": "stream"
        }
      ]
    },
    {
      "cell_type": "code",
      "source": [
        "games['Platform_General']= games['Platform']"
      ],
      "metadata": {
        "execution": {
          "iopub.status.busy": "2022-12-02T23:41:22.340021Z",
          "iopub.execute_input": "2022-12-02T23:41:22.340487Z",
          "iopub.status.idle": "2022-12-02T23:41:22.349325Z",
          "shell.execute_reply.started": "2022-12-02T23:41:22.340440Z",
          "shell.execute_reply": "2022-12-02T23:41:22.348004Z"
        },
        "trusted": true,
        "id": "KvYuFMaaZNpN"
      },
      "execution_count": null,
      "outputs": []
    },
    {
      "cell_type": "code",
      "source": [
        "games.loc[games['Platform'] == 'Wii', 'Platform_General'] = 'Nintendo'\n",
        "games.loc[games['Platform'] == 'DS', 'Platform_General'] = 'Nintendo'\n",
        "games.loc[games['Platform'] == 'X360', 'Platform_General'] = 'Microsoft_Xbox'\n",
        "games.loc[games['Platform'] == 'PS3', 'Platform_General'] = 'Sony_Playstation' \n",
        "games.loc[games['Platform'] == 'PS2', 'Platform_General'] = 'Sony_Playstation'\n",
        "games.loc[games['Platform'] == '3DS', 'Platform_General'] = 'Nintendo'\n",
        "games.loc[games['Platform'] == 'PS4', 'Platform_General'] = 'Sony_Playstation'\n",
        "games.loc[games['Platform'] == 'PS', 'Platform_General'] = 'Sony_Playstation' \n",
        "games.loc[games['Platform'] == 'XB', 'Platform_General'] = 'Microsoft_Xbox'\n",
        "games.loc[games['Platform'] == 'PC', 'Platform_General'] = 'PC'\n",
        "games.loc[games['Platform'] == 'PSP', 'Platform_General'] = 'Sony_Playstation'\n",
        "games.loc[games['Platform'] == 'WiiU', 'Platform_General'] = 'Nintendo'\n",
        "games.loc[games['Platform'] == 'GC', 'Platform_General'] = 'Nintendo'\n",
        "games.loc[games['Platform'] == 'GBA', 'Platform_General'] = 'Nintendo'\n",
        "games.loc[games['Platform'] == 'XOne', 'Platform_General'] = 'Microsoft_Xbox'\n",
        "games.loc[games['Platform'] == 'PSV', 'Platform_General'] = 'Sony_Playstation'\n",
        "games.loc[games['Platform'] == 'DC', 'Platform_General'] = 'Sega'"
      ],
      "metadata": {
        "execution": {
          "iopub.status.busy": "2022-12-02T23:41:22.351210Z",
          "iopub.execute_input": "2022-12-02T23:41:22.351675Z",
          "iopub.status.idle": "2022-12-02T23:41:22.391689Z",
          "shell.execute_reply.started": "2022-12-02T23:41:22.351631Z",
          "shell.execute_reply": "2022-12-02T23:41:22.390511Z"
        },
        "trusted": true,
        "id": "AK6LsMlQZNpO"
      },
      "execution_count": null,
      "outputs": []
    },
    {
      "cell_type": "code",
      "source": [
        "games.head()"
      ],
      "metadata": {
        "execution": {
          "iopub.status.busy": "2022-12-02T23:41:22.393446Z",
          "iopub.execute_input": "2022-12-02T23:41:22.393879Z",
          "iopub.status.idle": "2022-12-02T23:41:22.411574Z",
          "shell.execute_reply.started": "2022-12-02T23:41:22.393830Z",
          "shell.execute_reply": "2022-12-02T23:41:22.409872Z"
        },
        "trusted": true,
        "id": "70s0SMk-ZNpP",
        "outputId": "1ed3cae4-fb80-443a-cee5-5c2ab1f8df9b"
      },
      "execution_count": null,
      "outputs": [
        {
          "execution_count": 187,
          "output_type": "execute_result",
          "data": {
            "text/plain": "                    Name Platform  Year_of_Release     Genre  Global_Sales  \\\n0             Wii Sports      Wii           2006.0    Sports         82.53   \n2         Mario Kart Wii      Wii           2008.0    Racing         35.52   \n3      Wii Sports Resort      Wii           2009.0    Sports         32.77   \n6  New Super Mario Bros.       DS           2006.0  Platform         29.80   \n7               Wii Play      Wii           2006.0      Misc         28.92   \n\n   Critic_Score Platform_General  \n0          76.0         Nintendo  \n2          82.0         Nintendo  \n3          80.0         Nintendo  \n6          89.0         Nintendo  \n7          58.0         Nintendo  ",
            "text/html": "<div>\n<style scoped>\n    .dataframe tbody tr th:only-of-type {\n        vertical-align: middle;\n    }\n\n    .dataframe tbody tr th {\n        vertical-align: top;\n    }\n\n    .dataframe thead th {\n        text-align: right;\n    }\n</style>\n<table border=\"1\" class=\"dataframe\">\n  <thead>\n    <tr style=\"text-align: right;\">\n      <th></th>\n      <th>Name</th>\n      <th>Platform</th>\n      <th>Year_of_Release</th>\n      <th>Genre</th>\n      <th>Global_Sales</th>\n      <th>Critic_Score</th>\n      <th>Platform_General</th>\n    </tr>\n  </thead>\n  <tbody>\n    <tr>\n      <th>0</th>\n      <td>Wii Sports</td>\n      <td>Wii</td>\n      <td>2006.0</td>\n      <td>Sports</td>\n      <td>82.53</td>\n      <td>76.0</td>\n      <td>Nintendo</td>\n    </tr>\n    <tr>\n      <th>2</th>\n      <td>Mario Kart Wii</td>\n      <td>Wii</td>\n      <td>2008.0</td>\n      <td>Racing</td>\n      <td>35.52</td>\n      <td>82.0</td>\n      <td>Nintendo</td>\n    </tr>\n    <tr>\n      <th>3</th>\n      <td>Wii Sports Resort</td>\n      <td>Wii</td>\n      <td>2009.0</td>\n      <td>Sports</td>\n      <td>32.77</td>\n      <td>80.0</td>\n      <td>Nintendo</td>\n    </tr>\n    <tr>\n      <th>6</th>\n      <td>New Super Mario Bros.</td>\n      <td>DS</td>\n      <td>2006.0</td>\n      <td>Platform</td>\n      <td>29.80</td>\n      <td>89.0</td>\n      <td>Nintendo</td>\n    </tr>\n    <tr>\n      <th>7</th>\n      <td>Wii Play</td>\n      <td>Wii</td>\n      <td>2006.0</td>\n      <td>Misc</td>\n      <td>28.92</td>\n      <td>58.0</td>\n      <td>Nintendo</td>\n    </tr>\n  </tbody>\n</table>\n</div>"
          },
          "metadata": {}
        }
      ]
    },
    {
      "cell_type": "code",
      "source": [
        "print(\"Berbagai jenis platform general:\", games['Platform_General'].unique())"
      ],
      "metadata": {
        "execution": {
          "iopub.status.busy": "2022-12-02T23:41:22.413888Z",
          "iopub.execute_input": "2022-12-02T23:41:22.414579Z",
          "iopub.status.idle": "2022-12-02T23:41:22.421410Z",
          "shell.execute_reply.started": "2022-12-02T23:41:22.414513Z",
          "shell.execute_reply": "2022-12-02T23:41:22.420196Z"
        },
        "trusted": true,
        "id": "Ovsqiek7ZNpQ",
        "outputId": "b94c3e1f-87f0-4231-b7eb-0419de3f3fff"
      },
      "execution_count": null,
      "outputs": [
        {
          "name": "stdout",
          "text": "Berbagai jenis platform general: ['Nintendo' 'Microsoft_Xbox' 'Sony_Playstation' 'PC' 'Sega']\n",
          "output_type": "stream"
        }
      ]
    },
    {
      "cell_type": "markdown",
      "source": [
        "## 5.) Tidy Up Dataset"
      ],
      "metadata": {
        "id": "ugTN5gasZNpR"
      }
    },
    {
      "cell_type": "code",
      "source": [
        "# mengubah tipe data sebuah kolom\n",
        "games['Year_of_Release'] = games['Year_of_Release'].astype(int).astype(object)\n",
        "games['Critic_Score'] = games['Critic_Score'].astype(int)"
      ],
      "metadata": {
        "execution": {
          "iopub.status.busy": "2022-12-02T23:41:22.423032Z",
          "iopub.execute_input": "2022-12-02T23:41:22.423429Z",
          "iopub.status.idle": "2022-12-02T23:41:22.439374Z",
          "shell.execute_reply.started": "2022-12-02T23:41:22.423394Z",
          "shell.execute_reply": "2022-12-02T23:41:22.438121Z"
        },
        "trusted": true,
        "id": "N2bEojgUZNpR"
      },
      "execution_count": null,
      "outputs": []
    },
    {
      "cell_type": "code",
      "source": [
        "# mengganti nama value tertentu\n",
        "duplicated_index = games[games.duplicated('Name', keep=False)].index.tolist()\n",
        "games.loc[duplicated_index, \"Platform\"] = \"Multi_Platform\"\n",
        "games.loc[duplicated_index, \"Platform_General\"] = \"Multi_Platform\"\n",
        "games.loc[games['Genre'] == 'Role-Playing', 'Genre'] = 'Role_Playing'"
      ],
      "metadata": {
        "execution": {
          "iopub.status.busy": "2022-12-02T23:41:22.440901Z",
          "iopub.execute_input": "2022-12-02T23:41:22.441272Z",
          "iopub.status.idle": "2022-12-02T23:41:22.461287Z",
          "shell.execute_reply.started": "2022-12-02T23:41:22.441238Z",
          "shell.execute_reply": "2022-12-02T23:41:22.459309Z"
        },
        "trusted": true,
        "id": "RP3YnmHuZNpS"
      },
      "execution_count": null,
      "outputs": []
    },
    {
      "cell_type": "code",
      "source": [
        "# menggabungkan nama game yang sama\n",
        "games['Global_Sales'] = games.groupby(['Name'])['Global_Sales'].transform('sum')\n",
        "games = games.drop_duplicates(subset=['Name'])"
      ],
      "metadata": {
        "execution": {
          "iopub.status.busy": "2022-12-02T23:41:22.463254Z",
          "iopub.execute_input": "2022-12-02T23:41:22.463626Z",
          "iopub.status.idle": "2022-12-02T23:41:22.480851Z",
          "shell.execute_reply.started": "2022-12-02T23:41:22.463593Z",
          "shell.execute_reply": "2022-12-02T23:41:22.479858Z"
        },
        "trusted": true,
        "id": "MM9hnadcZNpT"
      },
      "execution_count": null,
      "outputs": []
    },
    {
      "cell_type": "code",
      "source": [
        "# mengubah urutan kolom\n",
        "games = games.reindex(columns=['Name','Platform','Platform_General','Year_of_Release','Genre','Global_Sales','Critic_Score'])\n",
        "games = games.reset_index(drop=True)"
      ],
      "metadata": {
        "execution": {
          "iopub.status.busy": "2022-12-02T23:41:22.482043Z",
          "iopub.execute_input": "2022-12-02T23:41:22.483169Z",
          "iopub.status.idle": "2022-12-02T23:41:22.490443Z",
          "shell.execute_reply.started": "2022-12-02T23:41:22.483130Z",
          "shell.execute_reply": "2022-12-02T23:41:22.489266Z"
        },
        "trusted": true,
        "id": "p3hNGbhzZNpU"
      },
      "execution_count": null,
      "outputs": []
    },
    {
      "cell_type": "code",
      "source": [
        "games.sample(5)"
      ],
      "metadata": {
        "execution": {
          "iopub.status.busy": "2022-12-02T23:41:22.491993Z",
          "iopub.execute_input": "2022-12-02T23:41:22.492968Z",
          "iopub.status.idle": "2022-12-02T23:41:22.512169Z",
          "shell.execute_reply.started": "2022-12-02T23:41:22.492924Z",
          "shell.execute_reply": "2022-12-02T23:41:22.510622Z"
        },
        "trusted": true,
        "id": "YsjlZogrZNpU",
        "outputId": "8c5fac09-4abb-42cf-beed-a614abde6b1e"
      },
      "execution_count": null,
      "outputs": [
        {
          "execution_count": 193,
          "output_type": "execute_result",
          "data": {
            "text/plain": "                             Name        Platform  Platform_General  \\\n2075                 Rumble Roses             PS2  Sony_Playstation   \n4074                Cosmic Family             Wii          Nintendo   \n1048  Medal of Honor: Underground  Multi_Platform    Multi_Platform   \n2776         NBA Street: Showdown             PSP  Sony_Playstation   \n2359   Jonah Lomu Rugby Challenge            X360    Microsoft_Xbox   \n\n     Year_of_Release     Genre  Global_Sales  Critic_Score  \n2075            2004  Fighting          0.39            66  \n4074            2007      Misc          0.08            54  \n1048            2000   Shooter          1.05            86  \n2776            2005    Sports          0.22            75  \n2359            2011    Sports          0.31            73  ",
            "text/html": "<div>\n<style scoped>\n    .dataframe tbody tr th:only-of-type {\n        vertical-align: middle;\n    }\n\n    .dataframe tbody tr th {\n        vertical-align: top;\n    }\n\n    .dataframe thead th {\n        text-align: right;\n    }\n</style>\n<table border=\"1\" class=\"dataframe\">\n  <thead>\n    <tr style=\"text-align: right;\">\n      <th></th>\n      <th>Name</th>\n      <th>Platform</th>\n      <th>Platform_General</th>\n      <th>Year_of_Release</th>\n      <th>Genre</th>\n      <th>Global_Sales</th>\n      <th>Critic_Score</th>\n    </tr>\n  </thead>\n  <tbody>\n    <tr>\n      <th>2075</th>\n      <td>Rumble Roses</td>\n      <td>PS2</td>\n      <td>Sony_Playstation</td>\n      <td>2004</td>\n      <td>Fighting</td>\n      <td>0.39</td>\n      <td>66</td>\n    </tr>\n    <tr>\n      <th>4074</th>\n      <td>Cosmic Family</td>\n      <td>Wii</td>\n      <td>Nintendo</td>\n      <td>2007</td>\n      <td>Misc</td>\n      <td>0.08</td>\n      <td>54</td>\n    </tr>\n    <tr>\n      <th>1048</th>\n      <td>Medal of Honor: Underground</td>\n      <td>Multi_Platform</td>\n      <td>Multi_Platform</td>\n      <td>2000</td>\n      <td>Shooter</td>\n      <td>1.05</td>\n      <td>86</td>\n    </tr>\n    <tr>\n      <th>2776</th>\n      <td>NBA Street: Showdown</td>\n      <td>PSP</td>\n      <td>Sony_Playstation</td>\n      <td>2005</td>\n      <td>Sports</td>\n      <td>0.22</td>\n      <td>75</td>\n    </tr>\n    <tr>\n      <th>2359</th>\n      <td>Jonah Lomu Rugby Challenge</td>\n      <td>X360</td>\n      <td>Microsoft_Xbox</td>\n      <td>2011</td>\n      <td>Sports</td>\n      <td>0.31</td>\n      <td>73</td>\n    </tr>\n  </tbody>\n</table>\n</div>"
          },
          "metadata": {}
        }
      ]
    },
    {
      "cell_type": "markdown",
      "source": [
        "# Exploring Data"
      ],
      "metadata": {
        "id": "1o8Ar2iQZNpV"
      }
    },
    {
      "cell_type": "code",
      "source": [
        "games.info()"
      ],
      "metadata": {
        "execution": {
          "iopub.status.busy": "2022-12-02T23:41:22.513351Z",
          "iopub.execute_input": "2022-12-02T23:41:22.513712Z",
          "iopub.status.idle": "2022-12-02T23:41:22.535026Z",
          "shell.execute_reply.started": "2022-12-02T23:41:22.513677Z",
          "shell.execute_reply": "2022-12-02T23:41:22.533562Z"
        },
        "trusted": true,
        "id": "d2hvfY9bZNpW",
        "outputId": "7f8214d1-0784-423a-8499-c3c614e2062c"
      },
      "execution_count": null,
      "outputs": [
        {
          "name": "stdout",
          "text": "<class 'pandas.core.frame.DataFrame'>\nRangeIndex: 5031 entries, 0 to 5030\nData columns (total 7 columns):\n #   Column            Non-Null Count  Dtype  \n---  ------            --------------  -----  \n 0   Name              5031 non-null   object \n 1   Platform          5031 non-null   object \n 2   Platform_General  5031 non-null   object \n 3   Year_of_Release   5031 non-null   object \n 4   Genre             5031 non-null   object \n 5   Global_Sales      5031 non-null   float64\n 6   Critic_Score      5031 non-null   int64  \ndtypes: float64(1), int64(1), object(5)\nmemory usage: 275.3+ KB\n",
          "output_type": "stream"
        }
      ]
    },
    {
      "cell_type": "code",
      "source": [
        "games.nunique()"
      ],
      "metadata": {
        "execution": {
          "iopub.status.busy": "2022-12-02T23:41:22.536888Z",
          "iopub.execute_input": "2022-12-02T23:41:22.537264Z",
          "iopub.status.idle": "2022-12-02T23:41:22.553038Z",
          "shell.execute_reply.started": "2022-12-02T23:41:22.537228Z",
          "shell.execute_reply": "2022-12-02T23:41:22.551633Z"
        },
        "trusted": true,
        "id": "B5qURVsgZNpW",
        "outputId": "76044432-11c0-4a7a-eeb1-641d5d01ef02"
      },
      "execution_count": null,
      "outputs": [
        {
          "execution_count": 195,
          "output_type": "execute_result",
          "data": {
            "text/plain": "Name                5031\nPlatform              18\nPlatform_General       6\nYear_of_Release       24\nGenre                 12\nGlobal_Sales         752\nCritic_Score          79\ndtype: int64"
          },
          "metadata": {}
        }
      ]
    },
    {
      "cell_type": "code",
      "source": [
        "games.describe()"
      ],
      "metadata": {
        "execution": {
          "iopub.status.busy": "2022-12-02T23:41:22.558029Z",
          "iopub.execute_input": "2022-12-02T23:41:22.558928Z",
          "iopub.status.idle": "2022-12-02T23:41:22.577524Z",
          "shell.execute_reply.started": "2022-12-02T23:41:22.558884Z",
          "shell.execute_reply": "2022-12-02T23:41:22.576329Z"
        },
        "trusted": true,
        "id": "rYHK5x-CZNpX",
        "outputId": "24902e4a-d001-4b53-dc01-a7abce03377c"
      },
      "execution_count": null,
      "outputs": [
        {
          "execution_count": 196,
          "output_type": "execute_result",
          "data": {
            "text/plain": "       Global_Sales  Critic_Score\ncount   5031.000000   5031.000000\nmean       1.100358     68.579209\nstd        2.726911     14.299440\nmin        0.010000     19.000000\n25%        0.110000     60.000000\n50%        0.320000     70.000000\n75%        1.060000     79.000000\nmax       82.530000     98.000000",
            "text/html": "<div>\n<style scoped>\n    .dataframe tbody tr th:only-of-type {\n        vertical-align: middle;\n    }\n\n    .dataframe tbody tr th {\n        vertical-align: top;\n    }\n\n    .dataframe thead th {\n        text-align: right;\n    }\n</style>\n<table border=\"1\" class=\"dataframe\">\n  <thead>\n    <tr style=\"text-align: right;\">\n      <th></th>\n      <th>Global_Sales</th>\n      <th>Critic_Score</th>\n    </tr>\n  </thead>\n  <tbody>\n    <tr>\n      <th>count</th>\n      <td>5031.000000</td>\n      <td>5031.000000</td>\n    </tr>\n    <tr>\n      <th>mean</th>\n      <td>1.100358</td>\n      <td>68.579209</td>\n    </tr>\n    <tr>\n      <th>std</th>\n      <td>2.726911</td>\n      <td>14.299440</td>\n    </tr>\n    <tr>\n      <th>min</th>\n      <td>0.010000</td>\n      <td>19.000000</td>\n    </tr>\n    <tr>\n      <th>25%</th>\n      <td>0.110000</td>\n      <td>60.000000</td>\n    </tr>\n    <tr>\n      <th>50%</th>\n      <td>0.320000</td>\n      <td>70.000000</td>\n    </tr>\n    <tr>\n      <th>75%</th>\n      <td>1.060000</td>\n      <td>79.000000</td>\n    </tr>\n    <tr>\n      <th>max</th>\n      <td>82.530000</td>\n      <td>98.000000</td>\n    </tr>\n  </tbody>\n</table>\n</div>"
          },
          "metadata": {}
        }
      ]
    },
    {
      "cell_type": "markdown",
      "source": [
        "## 1.) Univariate Analysis"
      ],
      "metadata": {
        "id": "6tKvJAZ0ZNpY"
      }
    },
    {
      "cell_type": "code",
      "source": [
        "count = games['Platform'].value_counts()\n",
        "percent = 100*games['Platform'].value_counts(normalize=True)\n",
        "df = pd.DataFrame({'jumlah sampel':count, 'persentase':percent.round(2)})\n",
        "print(df)\n",
        "count.plot(kind='bar', title=\"Jumlah Game tiap Platform\");"
      ],
      "metadata": {
        "execution": {
          "iopub.status.busy": "2022-12-02T23:41:22.578961Z",
          "iopub.execute_input": "2022-12-02T23:41:22.579401Z",
          "iopub.status.idle": "2022-12-02T23:41:22.961664Z",
          "shell.execute_reply.started": "2022-12-02T23:41:22.579366Z",
          "shell.execute_reply": "2022-12-02T23:41:22.960501Z"
        },
        "trusted": true,
        "id": "mCMB0GW3ZNpY",
        "outputId": "a8f8d2ac-30cc-4d28-e942-86ebbdfd0889"
      },
      "execution_count": null,
      "outputs": [
        {
          "name": "stdout",
          "text": "                jumlah sampel  persentase\nMulti_Platform           1665       33.09\nPS2                       587       11.67\nDS                        487        9.68\nPC                        308        6.12\nGBA                       300        5.96\nWii                       285        5.66\nPSP                       257        5.11\nXB                        204        4.05\nX360                      181        3.60\nPS                        163        3.24\nPS3                       149        2.96\n3DS                       121        2.41\nGC                        116        2.31\nPS4                        72        1.43\nPSV                        60        1.19\nWiiU                       43        0.85\nXOne                       21        0.42\nDC                         12        0.24\n",
          "output_type": "stream"
        },
        {
          "output_type": "display_data",
          "data": {
            "text/plain": "<Figure size 432x288 with 1 Axes>",
            "image/png": "[encoded data removed]"
          },
          "metadata": {}
        }
      ]
    },
    {
      "cell_type": "code",
      "source": [
        "count = games['Platform_General'].value_counts()\n",
        "percent = 100*games['Platform_General'].value_counts(normalize=True)\n",
        "df = pd.DataFrame({'Jumlah':count, 'Persentase':percent.round(2)})\n",
        "print(df)\n",
        "count.plot(kind='bar', title=\"Jumlah Game tiap General Platform\");"
      ],
      "metadata": {
        "execution": {
          "iopub.status.busy": "2022-12-02T23:41:22.963628Z",
          "iopub.execute_input": "2022-12-02T23:41:22.964013Z",
          "iopub.status.idle": "2022-12-02T23:41:23.233988Z",
          "shell.execute_reply.started": "2022-12-02T23:41:22.963979Z",
          "shell.execute_reply": "2022-12-02T23:41:23.232858Z"
        },
        "trusted": true,
        "id": "5P4Rg9KaZNpZ",
        "outputId": "0422ae1c-914a-4e75-b440-62635f286d47"
      },
      "execution_count": null,
      "outputs": [
        {
          "name": "stdout",
          "text": "                  Jumlah  Persentase\nMulti_Platform      1665       33.09\nNintendo            1352       26.87\nSony_Playstation    1288       25.60\nMicrosoft_Xbox       406        8.07\nPC                   308        6.12\nSega                  12        0.24\n",
          "output_type": "stream"
        },
        {
          "output_type": "display_data",
          "data": {
            "text/plain": "<Figure size 432x288 with 1 Axes>",
            "image/png": "[encoded data removed]"
          },
          "metadata": {}
        }
      ]
    },
    {
      "cell_type": "code",
      "source": [
        "count = games['Year_of_Release'].value_counts().sort_index()\n",
        "percent = 100*games['Year_of_Release'].value_counts(normalize=True)\n",
        "df = pd.DataFrame({'jumlah sampel':count, 'persentase':percent.round(2)})\n",
        "print(df)\n",
        "count.plot(kind='bar', title=\"Jumlah Game Rilis per Tahun\");"
      ],
      "metadata": {
        "execution": {
          "iopub.status.busy": "2022-12-02T23:41:23.235233Z",
          "iopub.execute_input": "2022-12-02T23:41:23.235564Z",
          "iopub.status.idle": "2022-12-02T23:41:23.655228Z",
          "shell.execute_reply.started": "2022-12-02T23:41:23.235533Z",
          "shell.execute_reply": "2022-12-02T23:41:23.653973Z"
        },
        "trusted": true,
        "id": "jtHw5Yi-ZNpa",
        "outputId": "2b987ae0-490b-48c3-8d25-55e6fd438cf6"
      },
      "execution_count": null,
      "outputs": [
        {
          "name": "stdout",
          "text": "      jumlah sampel  persentase\n1985              1        0.02\n1988              1        0.02\n1994              1        0.02\n1996              7        0.14\n1997             17        0.34\n1998             27        0.54\n1999             39        0.78\n2000            131        2.60\n2001            274        5.45\n2002            428        8.51\n2003            363        7.22\n2004            360        7.16\n2005            410        8.15\n2006            397        7.89\n2007            421        8.37\n2008            456        9.06\n2009            393        7.81\n2010            295        5.86\n2011            285        5.66\n2012            179        3.56\n2013            144        2.86\n2014            140        2.78\n2015            135        2.68\n2016            127        2.52\n",
          "output_type": "stream"
        },
        {
          "output_type": "display_data",
          "data": {
            "text/plain": "<Figure size 432x288 with 1 Axes>",
            "image/png": "[encoded data removed]"
          },
          "metadata": {}
        }
      ]
    },
    {
      "cell_type": "code",
      "source": [
        "count = games['Genre'].value_counts()\n",
        "percent = 100*games['Genre'].value_counts(normalize=True)\n",
        "df = pd.DataFrame({'jumlah sampel':count, 'persentase':percent.round(2)})\n",
        "print(df)\n",
        "count.plot(kind='bar', title=\"Jumlah Game tiap Genre\");"
      ],
      "metadata": {
        "execution": {
          "iopub.status.busy": "2022-12-02T23:41:23.656531Z",
          "iopub.execute_input": "2022-12-02T23:41:23.656919Z",
          "iopub.status.idle": "2022-12-02T23:41:23.992290Z",
          "shell.execute_reply.started": "2022-12-02T23:41:23.656883Z",
          "shell.execute_reply": "2022-12-02T23:41:23.990729Z"
        },
        "trusted": true,
        "id": "St_d7CC9ZNpa",
        "outputId": "a4862e70-1d33-42ba-c011-a070581503b5"
      },
      "execution_count": null,
      "outputs": [
        {
          "name": "stdout",
          "text": "              jumlah sampel  persentase\nAction                  972       19.32\nSports                  607       12.07\nRole_Playing            602       11.97\nShooter                 540       10.73\nRacing                  426        8.47\nMisc                    353        7.02\nPlatform                310        6.16\nSimulation              275        5.47\nFighting                269        5.35\nAdventure               246        4.89\nStrategy                242        4.81\nPuzzle                  189        3.76\n",
          "output_type": "stream"
        },
        {
          "output_type": "display_data",
          "data": {
            "text/plain": "<Figure size 432x288 with 1 Axes>",
            "image/png": "[encoded data removed]"
          },
          "metadata": {}
        }
      ]
    },
    {
      "cell_type": "code",
      "source": [
        "games.hist(bins=25, figsize=(12,5))\n",
        "plt.show()"
      ],
      "metadata": {
        "execution": {
          "iopub.status.busy": "2022-12-02T23:41:23.994418Z",
          "iopub.execute_input": "2022-12-02T23:41:23.995171Z",
          "iopub.status.idle": "2022-12-02T23:41:24.415209Z",
          "shell.execute_reply.started": "2022-12-02T23:41:23.995126Z",
          "shell.execute_reply": "2022-12-02T23:41:24.413666Z"
        },
        "trusted": true,
        "id": "2LZU5mpoZNpb",
        "outputId": "7945b165-35f8-4b59-920d-c7bc03965e82"
      },
      "execution_count": null,
      "outputs": [
        {
          "output_type": "display_data",
          "data": {
            "text/plain": "<Figure size 864x360 with 2 Axes>",
            "image/png": "[encoded data removed]"
          },
          "metadata": {}
        }
      ]
    },
    {
      "cell_type": "markdown",
      "source": [
        "## 2.) Multivariate Analysis"
      ],
      "metadata": {
        "id": "4LFjP6_eZNpc"
      }
    },
    {
      "cell_type": "code",
      "source": [
        "df = games.groupby(['Genre','Platform_General']).Global_Sales.sum()\n",
        "df.unstack().plot.bar(stacked=True, linewidth=0, figsize=(10,5))\n",
        "plt.title('Penjualan Global Video Games tiap Platform pada Masing-masing Genre', size=16)\n",
        "plt.ylabel('Penjualan Global (Juta)')\n",
        "plt.xlabel('Genre')\n",
        "plt.legend(loc=9, prop={'size': 10})\n",
        "plt.autoscale()\n",
        "plt.show()"
      ],
      "metadata": {
        "execution": {
          "iopub.status.busy": "2022-12-02T23:41:24.416511Z",
          "iopub.execute_input": "2022-12-02T23:41:24.416914Z",
          "iopub.status.idle": "2022-12-02T23:41:24.864086Z",
          "shell.execute_reply.started": "2022-12-02T23:41:24.416881Z",
          "shell.execute_reply": "2022-12-02T23:41:24.862745Z"
        },
        "trusted": true,
        "id": "RCM7LEW5ZNpc",
        "outputId": "63684f5e-59f3-49df-828d-afb8e00db548"
      },
      "execution_count": null,
      "outputs": [
        {
          "output_type": "display_data",
          "data": {
            "text/plain": "<Figure size 720x360 with 1 Axes>",
            "image/png": "[encoded data removed]"
          },
          "metadata": {}
        }
      ]
    },
    {
      "cell_type": "code",
      "source": [
        "df = games.groupby(['Year_of_Release','Platform_General']).Global_Sales.sum()\n",
        "df.unstack().plot.bar(stacked=True, linewidth=0, figsize=(10,5))\n",
        "plt.title('Penjualan Global tiap Platform dari Tahun ke tahun', size=16)\n",
        "plt.ylabel('Penjualan Global (Juta)')\n",
        "plt.xlabel('Tahun')\n",
        "plt.legend(loc=2, prop={'size': 10})\n",
        "plt.show()"
      ],
      "metadata": {
        "execution": {
          "iopub.status.busy": "2022-12-02T23:41:24.865679Z",
          "iopub.execute_input": "2022-12-02T23:41:24.866179Z",
          "iopub.status.idle": "2022-12-02T23:41:25.481885Z",
          "shell.execute_reply.started": "2022-12-02T23:41:24.866133Z",
          "shell.execute_reply": "2022-12-02T23:41:25.480644Z"
        },
        "trusted": true,
        "id": "FErqyvFmZNpd",
        "outputId": "acf9ca51-fe64-4162-a807-5a3c1d942307"
      },
      "execution_count": null,
      "outputs": [
        {
          "output_type": "display_data",
          "data": {
            "text/plain": "<Figure size 720x360 with 1 Axes>",
            "image/png": "[encoded data removed]"
          },
          "metadata": {}
        }
      ]
    },
    {
      "cell_type": "code",
      "source": [
        "df = games.groupby(['Critic_Score','Platform_General']).Global_Sales.sum()\n",
        "df.unstack().plot.bar(stacked=True, linewidth=0, figsize=(20,5))\n",
        "plt.title('Penjualan Global tiap Platform berdasarkan Skor Metacritic', size=16)\n",
        "plt.ylabel('Penjualan Global (Juta)')\n",
        "plt.xlabel('Skor Metacritic')\n",
        "plt.legend(loc=2, prop={'size': 10})\n",
        "plt.show()"
      ],
      "metadata": {
        "execution": {
          "iopub.status.busy": "2022-12-02T23:41:25.483606Z",
          "iopub.execute_input": "2022-12-02T23:41:25.485078Z",
          "iopub.status.idle": "2022-12-02T23:41:28.352235Z",
          "shell.execute_reply.started": "2022-12-02T23:41:25.485012Z",
          "shell.execute_reply": "2022-12-02T23:41:28.350861Z"
        },
        "trusted": true,
        "id": "SCtvk8ZCZNpe",
        "outputId": "891ad300-c1cc-46b4-c125-3912025932cc"
      },
      "execution_count": null,
      "outputs": [
        {
          "output_type": "display_data",
          "data": {
            "text/plain": "<Figure size 1440x360 with 1 Axes>",
            "image/png": "[encoded data removed]"
          },
          "metadata": {}
        }
      ]
    },
    {
      "cell_type": "markdown",
      "source": [
        "# Development"
      ],
      "metadata": {
        "id": "As9MeQSYZNpf"
      }
    },
    {
      "cell_type": "code",
      "source": [
        "dataset = games.copy()\n",
        "dataset.sample(10)"
      ],
      "metadata": {
        "execution": {
          "iopub.status.busy": "2022-12-02T23:41:28.354104Z",
          "iopub.execute_input": "2022-12-02T23:41:28.354502Z",
          "iopub.status.idle": "2022-12-02T23:41:28.371012Z",
          "shell.execute_reply.started": "2022-12-02T23:41:28.354463Z",
          "shell.execute_reply": "2022-12-02T23:41:28.370077Z"
        },
        "trusted": true,
        "id": "r-7jsUe9ZNpf",
        "outputId": "5d5ea011-175e-48c4-b6ba-dd1f2eea8da2"
      },
      "execution_count": null,
      "outputs": [
        {
          "execution_count": 205,
          "output_type": "execute_result",
          "data": {
            "text/plain": "                                                  Name        Platform  \\\n287                     Middle-Earth: Shadow of Mordor  Multi_Platform   \n298                             Sega Superstars Tennis  Multi_Platform   \n2697        Resident Evil Archives: Resident Evil Zero             Wii   \n10                                  Grand Theft Auto V  Multi_Platform   \n2936  Teenage Mutant Ninja Turtles 3: Mutant Nightmare  Multi_Platform   \n4252                             MX vs. ATV Supercross  Multi_Platform   \n4417                                   Hummer Badlands  Multi_Platform   \n2983                Aliens versus Predator: Extinction  Multi_Platform   \n4823                                 Samurai Shodown V              XB   \n944                                NASCAR Thunder 2004  Multi_Platform   \n\n     Platform_General Year_of_Release     Genre  Global_Sales  Critic_Score  \n287    Multi_Platform            2014    Action          4.66            84  \n298    Multi_Platform            2008    Sports          5.46            67  \n2697         Nintendo            2008    Action          0.24            62  \n10     Multi_Platform            2013    Action         56.57            97  \n2936   Multi_Platform            2005    Action          0.42            53  \n4252   Multi_Platform            2014    Racing          0.09            48  \n4417   Multi_Platform            2006    Racing          0.07            48  \n2983   Multi_Platform            2003  Strategy          0.27            66  \n4823   Microsoft_Xbox            2006  Fighting          0.02            58  \n944    Multi_Platform            2003    Racing          1.31            88  ",
            "text/html": "<div>\n<style scoped>\n    .dataframe tbody tr th:only-of-type {\n        vertical-align: middle;\n    }\n\n    .dataframe tbody tr th {\n        vertical-align: top;\n    }\n\n    .dataframe thead th {\n        text-align: right;\n    }\n</style>\n<table border=\"1\" class=\"dataframe\">\n  <thead>\n    <tr style=\"text-align: right;\">\n      <th></th>\n      <th>Name</th>\n      <th>Platform</th>\n      <th>Platform_General</th>\n      <th>Year_of_Release</th>\n      <th>Genre</th>\n      <th>Global_Sales</th>\n      <th>Critic_Score</th>\n    </tr>\n  </thead>\n  <tbody>\n    <tr>\n      <th>287</th>\n      <td>Middle-Earth: Shadow of Mordor</td>\n      <td>Multi_Platform</td>\n      <td>Multi_Platform</td>\n      <td>2014</td>\n      <td>Action</td>\n      <td>4.66</td>\n      <td>84</td>\n    </tr>\n    <tr>\n      <th>298</th>\n      <td>Sega Superstars Tennis</td>\n      <td>Multi_Platform</td>\n      <td>Multi_Platform</td>\n      <td>2008</td>\n      <td>Sports</td>\n      <td>5.46</td>\n      <td>67</td>\n    </tr>\n    <tr>\n      <th>2697</th>\n      <td>Resident Evil Archives: Resident Evil Zero</td>\n      <td>Wii</td>\n      <td>Nintendo</td>\n      <td>2008</td>\n      <td>Action</td>\n      <td>0.24</td>\n      <td>62</td>\n    </tr>\n    <tr>\n      <th>10</th>\n      <td>Grand Theft Auto V</td>\n      <td>Multi_Platform</td>\n      <td>Multi_Platform</td>\n      <td>2013</td>\n      <td>Action</td>\n      <td>56.57</td>\n      <td>97</td>\n    </tr>\n    <tr>\n      <th>2936</th>\n      <td>Teenage Mutant Ninja Turtles 3: Mutant Nightmare</td>\n      <td>Multi_Platform</td>\n      <td>Multi_Platform</td>\n      <td>2005</td>\n      <td>Action</td>\n      <td>0.42</td>\n      <td>53</td>\n    </tr>\n    <tr>\n      <th>4252</th>\n      <td>MX vs. ATV Supercross</td>\n      <td>Multi_Platform</td>\n      <td>Multi_Platform</td>\n      <td>2014</td>\n      <td>Racing</td>\n      <td>0.09</td>\n      <td>48</td>\n    </tr>\n    <tr>\n      <th>4417</th>\n      <td>Hummer Badlands</td>\n      <td>Multi_Platform</td>\n      <td>Multi_Platform</td>\n      <td>2006</td>\n      <td>Racing</td>\n      <td>0.07</td>\n      <td>48</td>\n    </tr>\n    <tr>\n      <th>2983</th>\n      <td>Aliens versus Predator: Extinction</td>\n      <td>Multi_Platform</td>\n      <td>Multi_Platform</td>\n      <td>2003</td>\n      <td>Strategy</td>\n      <td>0.27</td>\n      <td>66</td>\n    </tr>\n    <tr>\n      <th>4823</th>\n      <td>Samurai Shodown V</td>\n      <td>XB</td>\n      <td>Microsoft_Xbox</td>\n      <td>2006</td>\n      <td>Fighting</td>\n      <td>0.02</td>\n      <td>58</td>\n    </tr>\n    <tr>\n      <th>944</th>\n      <td>NASCAR Thunder 2004</td>\n      <td>Multi_Platform</td>\n      <td>Multi_Platform</td>\n      <td>2003</td>\n      <td>Racing</td>\n      <td>1.31</td>\n      <td>88</td>\n    </tr>\n  </tbody>\n</table>\n</div>"
          },
          "metadata": {}
        }
      ]
    },
    {
      "cell_type": "markdown",
      "source": [
        "## 1.) TF-IDF Vectorizer"
      ],
      "metadata": {
        "id": "oT6w5vSyZNpg"
      }
    },
    {
      "cell_type": "code",
      "source": [
        "from sklearn.feature_extraction.text import TfidfVectorizer\n",
        " \n",
        "tf = TfidfVectorizer()\n",
        "tf.fit(dataset['Genre']) \n",
        "tf.get_feature_names() "
      ],
      "metadata": {
        "execution": {
          "iopub.status.busy": "2022-12-02T23:41:28.372385Z",
          "iopub.execute_input": "2022-12-02T23:41:28.372744Z",
          "iopub.status.idle": "2022-12-02T23:41:28.407138Z",
          "shell.execute_reply.started": "2022-12-02T23:41:28.372710Z",
          "shell.execute_reply": "2022-12-02T23:41:28.405955Z"
        },
        "trusted": true,
        "id": "viATcpbpZNph",
        "outputId": "dee2ca65-5bc6-4319-e19a-ff24f2027ede"
      },
      "execution_count": null,
      "outputs": [
        {
          "execution_count": 206,
          "output_type": "execute_result",
          "data": {
            "text/plain": "['action',\n 'adventure',\n 'fighting',\n 'misc',\n 'platform',\n 'puzzle',\n 'racing',\n 'role_playing',\n 'shooter',\n 'simulation',\n 'sports',\n 'strategy']"
          },
          "metadata": {}
        }
      ]
    },
    {
      "cell_type": "code",
      "source": [
        "tfidf_matrix = tf.fit_transform(dataset['Genre']) \n",
        "tfidf_matrix.shape "
      ],
      "metadata": {
        "execution": {
          "iopub.status.busy": "2022-12-02T23:41:28.408835Z",
          "iopub.execute_input": "2022-12-02T23:41:28.409799Z",
          "iopub.status.idle": "2022-12-02T23:41:28.439126Z",
          "shell.execute_reply.started": "2022-12-02T23:41:28.409729Z",
          "shell.execute_reply": "2022-12-02T23:41:28.437843Z"
        },
        "trusted": true,
        "id": "ml8FL2RdZNpi",
        "outputId": "32101b06-0274-4999-9c53-4e2bf363508b"
      },
      "execution_count": null,
      "outputs": [
        {
          "execution_count": 207,
          "output_type": "execute_result",
          "data": {
            "text/plain": "(5031, 12)"
          },
          "metadata": {}
        }
      ]
    },
    {
      "cell_type": "code",
      "source": [
        "tfidf_matrix.todense()"
      ],
      "metadata": {
        "execution": {
          "iopub.status.busy": "2022-12-02T23:41:28.440811Z",
          "iopub.execute_input": "2022-12-02T23:41:28.441279Z",
          "iopub.status.idle": "2022-12-02T23:41:28.450603Z",
          "shell.execute_reply.started": "2022-12-02T23:41:28.441233Z",
          "shell.execute_reply": "2022-12-02T23:41:28.449531Z"
        },
        "trusted": true,
        "id": "hHrJzVCIZNpj",
        "outputId": "87c30023-9e3a-466c-93fe-0370d71d8c1b"
      },
      "execution_count": null,
      "outputs": [
        {
          "execution_count": 208,
          "output_type": "execute_result",
          "data": {
            "text/plain": "matrix([[0., 0., 0., ..., 0., 1., 0.],\n        [0., 0., 0., ..., 0., 0., 0.],\n        [0., 0., 0., ..., 0., 1., 0.],\n        ...,\n        [0., 0., 0., ..., 0., 0., 0.],\n        [0., 0., 0., ..., 0., 0., 1.],\n        [0., 1., 0., ..., 0., 0., 0.]])"
          },
          "metadata": {}
        }
      ]
    },
    {
      "cell_type": "code",
      "source": [
        "pd.DataFrame(\n",
        "    tfidf_matrix.todense(), \n",
        "    columns=tf.get_feature_names(),\n",
        "    index=dataset['Name']\n",
        ").sample(12, axis=1).sample(10, axis=0)"
      ],
      "metadata": {
        "execution": {
          "iopub.status.busy": "2022-12-02T23:41:28.452179Z",
          "iopub.execute_input": "2022-12-02T23:41:28.453402Z",
          "iopub.status.idle": "2022-12-02T23:41:28.484566Z",
          "shell.execute_reply.started": "2022-12-02T23:41:28.453361Z",
          "shell.execute_reply": "2022-12-02T23:41:28.483390Z"
        },
        "trusted": true,
        "id": "oikk4Ex8ZNpk",
        "outputId": "606db4e4-e123-45ec-886b-d4d423a409f1"
      },
      "execution_count": null,
      "outputs": [
        {
          "execution_count": 209,
          "output_type": "execute_result",
          "data": {
            "text/plain": "                                                  adventure  shooter  misc  \\\nName                                                                         \nAngry Birds Star Wars                                   0.0      0.0   0.0   \nMVP 06 NCAA Baseball                                    0.0      0.0   0.0   \nTrue Swing Golf                                         0.0      0.0   0.0   \nTop Gun                                                 0.0      0.0   0.0   \nWe Ski                                                  0.0      0.0   0.0   \nMike Tyson Heavyweight Boxing                           0.0      0.0   0.0   \nWWE Wrestlemania X8                                     0.0      0.0   0.0   \nAltered Beast: Guardian of the Realms                   0.0      0.0   0.0   \nMetroid Fusion                                          0.0      0.0   0.0   \nFinal Fantasy Crystal Chronicles: Echoes of Time        0.0      0.0   0.0   \n\n                                                  puzzle  strategy  \\\nName                                                                 \nAngry Birds Star Wars                                0.0       1.0   \nMVP 06 NCAA Baseball                                 0.0       0.0   \nTrue Swing Golf                                      0.0       0.0   \nTop Gun                                              0.0       0.0   \nWe Ski                                               0.0       0.0   \nMike Tyson Heavyweight Boxing                        0.0       0.0   \nWWE Wrestlemania X8                                  0.0       0.0   \nAltered Beast: Guardian of the Realms                0.0       0.0   \nMetroid Fusion                                       0.0       0.0   \nFinal Fantasy Crystal Chronicles: Echoes of Time     0.0       0.0   \n\n                                                  simulation  racing  action  \\\nName                                                                           \nAngry Birds Star Wars                                    0.0     0.0     0.0   \nMVP 06 NCAA Baseball                                     0.0     0.0     0.0   \nTrue Swing Golf                                          0.0     0.0     0.0   \nTop Gun                                                  1.0     0.0     0.0   \nWe Ski                                                   0.0     0.0     0.0   \nMike Tyson Heavyweight Boxing                            0.0     0.0     0.0   \nWWE Wrestlemania X8                                      0.0     0.0     0.0   \nAltered Beast: Guardian of the Realms                    0.0     0.0     1.0   \nMetroid Fusion                                           0.0     0.0     1.0   \nFinal Fantasy Crystal Chronicles: Echoes of Time         0.0     0.0     0.0   \n\n                                                  fighting  platform  \\\nName                                                                   \nAngry Birds Star Wars                                  0.0       0.0   \nMVP 06 NCAA Baseball                                   0.0       0.0   \nTrue Swing Golf                                        0.0       0.0   \nTop Gun                                                0.0       0.0   \nWe Ski                                                 0.0       0.0   \nMike Tyson Heavyweight Boxing                          0.0       0.0   \nWWE Wrestlemania X8                                    1.0       0.0   \nAltered Beast: Guardian of the Realms                  0.0       0.0   \nMetroid Fusion                                         0.0       0.0   \nFinal Fantasy Crystal Chronicles: Echoes of Time       0.0       0.0   \n\n                                                  role_playing  sports  \nName                                                                    \nAngry Birds Star Wars                                      0.0     0.0  \nMVP 06 NCAA Baseball                                       0.0     1.0  \nTrue Swing Golf                                            0.0     1.0  \nTop Gun                                                    0.0     0.0  \nWe Ski                                                     0.0     1.0  \nMike Tyson Heavyweight Boxing                              0.0     1.0  \nWWE Wrestlemania X8                                        0.0     0.0  \nAltered Beast: Guardian of the Realms                      0.0     0.0  \nMetroid Fusion                                             0.0     0.0  \nFinal Fantasy Crystal Chronicles: Echoes of Time           1.0     0.0  ",
            "text/html": "<div>\n<style scoped>\n    .dataframe tbody tr th:only-of-type {\n        vertical-align: middle;\n    }\n\n    .dataframe tbody tr th {\n        vertical-align: top;\n    }\n\n    .dataframe thead th {\n        text-align: right;\n    }\n</style>\n<table border=\"1\" class=\"dataframe\">\n  <thead>\n    <tr style=\"text-align: right;\">\n      <th></th>\n      <th>adventure</th>\n      <th>shooter</th>\n      <th>misc</th>\n      <th>puzzle</th>\n      <th>strategy</th>\n      <th>simulation</th>\n      <th>racing</th>\n      <th>action</th>\n      <th>fighting</th>\n      <th>platform</th>\n      <th>role_playing</th>\n      <th>sports</th>\n    </tr>\n    <tr>\n      <th>Name</th>\n      <th></th>\n      <th></th>\n      <th></th>\n      <th></th>\n      <th></th>\n      <th></th>\n      <th></th>\n      <th></th>\n      <th></th>\n      <th></th>\n      <th></th>\n      <th></th>\n    </tr>\n  </thead>\n  <tbody>\n    <tr>\n      <th>Angry Birds Star Wars</th>\n      <td>0.0</td>\n      <td>0.0</td>\n      <td>0.0</td>\n      <td>0.0</td>\n      <td>1.0</td>\n      <td>0.0</td>\n      <td>0.0</td>\n      <td>0.0</td>\n      <td>0.0</td>\n      <td>0.0</td>\n      <td>0.0</td>\n      <td>0.0</td>\n    </tr>\n    <tr>\n      <th>MVP 06 NCAA Baseball</th>\n      <td>0.0</td>\n      <td>0.0</td>\n      <td>0.0</td>\n      <td>0.0</td>\n      <td>0.0</td>\n      <td>0.0</td>\n      <td>0.0</td>\n      <td>0.0</td>\n      <td>0.0</td>\n      <td>0.0</td>\n      <td>0.0</td>\n      <td>1.0</td>\n    </tr>\n    <tr>\n      <th>True Swing Golf</th>\n      <td>0.0</td>\n      <td>0.0</td>\n      <td>0.0</td>\n      <td>0.0</td>\n      <td>0.0</td>\n      <td>0.0</td>\n      <td>0.0</td>\n      <td>0.0</td>\n      <td>0.0</td>\n      <td>0.0</td>\n      <td>0.0</td>\n      <td>1.0</td>\n    </tr>\n    <tr>\n      <th>Top Gun</th>\n      <td>0.0</td>\n      <td>0.0</td>\n      <td>0.0</td>\n      <td>0.0</td>\n      <td>0.0</td>\n      <td>1.0</td>\n      <td>0.0</td>\n      <td>0.0</td>\n      <td>0.0</td>\n      <td>0.0</td>\n      <td>0.0</td>\n      <td>0.0</td>\n    </tr>\n    <tr>\n      <th>We Ski</th>\n      <td>0.0</td>\n      <td>0.0</td>\n      <td>0.0</td>\n      <td>0.0</td>\n      <td>0.0</td>\n      <td>0.0</td>\n      <td>0.0</td>\n      <td>0.0</td>\n      <td>0.0</td>\n      <td>0.0</td>\n      <td>0.0</td>\n      <td>1.0</td>\n    </tr>\n    <tr>\n      <th>Mike Tyson Heavyweight Boxing</th>\n      <td>0.0</td>\n      <td>0.0</td>\n      <td>0.0</td>\n      <td>0.0</td>\n      <td>0.0</td>\n      <td>0.0</td>\n      <td>0.0</td>\n      <td>0.0</td>\n      <td>0.0</td>\n      <td>0.0</td>\n      <td>0.0</td>\n      <td>1.0</td>\n    </tr>\n    <tr>\n      <th>WWE Wrestlemania X8</th>\n      <td>0.0</td>\n      <td>0.0</td>\n      <td>0.0</td>\n      <td>0.0</td>\n      <td>0.0</td>\n      <td>0.0</td>\n      <td>0.0</td>\n      <td>0.0</td>\n      <td>1.0</td>\n      <td>0.0</td>\n      <td>0.0</td>\n      <td>0.0</td>\n    </tr>\n    <tr>\n      <th>Altered Beast: Guardian of the Realms</th>\n      <td>0.0</td>\n      <td>0.0</td>\n      <td>0.0</td>\n      <td>0.0</td>\n      <td>0.0</td>\n      <td>0.0</td>\n      <td>0.0</td>\n      <td>1.0</td>\n      <td>0.0</td>\n      <td>0.0</td>\n      <td>0.0</td>\n      <td>0.0</td>\n    </tr>\n    <tr>\n      <th>Metroid Fusion</th>\n      <td>0.0</td>\n      <td>0.0</td>\n      <td>0.0</td>\n      <td>0.0</td>\n      <td>0.0</td>\n      <td>0.0</td>\n      <td>0.0</td>\n      <td>1.0</td>\n      <td>0.0</td>\n      <td>0.0</td>\n      <td>0.0</td>\n      <td>0.0</td>\n    </tr>\n    <tr>\n      <th>Final Fantasy Crystal Chronicles: Echoes of Time</th>\n      <td>0.0</td>\n      <td>0.0</td>\n      <td>0.0</td>\n      <td>0.0</td>\n      <td>0.0</td>\n      <td>0.0</td>\n      <td>0.0</td>\n      <td>0.0</td>\n      <td>0.0</td>\n      <td>0.0</td>\n      <td>1.0</td>\n      <td>0.0</td>\n    </tr>\n  </tbody>\n</table>\n</div>"
          },
          "metadata": {}
        }
      ]
    },
    {
      "cell_type": "markdown",
      "source": [
        "## 2.) Cosine Similarity"
      ],
      "metadata": {
        "id": "uonQ7z0IZNpl"
      }
    },
    {
      "cell_type": "code",
      "source": [
        "from sklearn.metrics.pairwise import cosine_similarity\n",
        " \n",
        "# Menghitung cosine similarity pada matrix tf-idf\n",
        "cosine_sim = cosine_similarity(tfidf_matrix) \n",
        "cosine_sim"
      ],
      "metadata": {
        "execution": {
          "iopub.status.busy": "2022-12-02T23:41:28.486346Z",
          "iopub.execute_input": "2022-12-02T23:41:28.486869Z",
          "iopub.status.idle": "2022-12-02T23:41:28.867319Z",
          "shell.execute_reply.started": "2022-12-02T23:41:28.486820Z",
          "shell.execute_reply": "2022-12-02T23:41:28.866141Z"
        },
        "trusted": true,
        "id": "UuLAeSZ0ZNpl",
        "outputId": "d698c8d9-023d-4240-edfa-f89774826f44"
      },
      "execution_count": null,
      "outputs": [
        {
          "execution_count": 210,
          "output_type": "execute_result",
          "data": {
            "text/plain": "array([[1., 0., 1., ..., 0., 0., 0.],\n       [0., 1., 0., ..., 0., 0., 0.],\n       [1., 0., 1., ..., 0., 0., 0.],\n       ...,\n       [0., 0., 0., ..., 1., 0., 0.],\n       [0., 0., 0., ..., 0., 1., 0.],\n       [0., 0., 0., ..., 0., 0., 1.]])"
          },
          "metadata": {}
        }
      ]
    },
    {
      "cell_type": "code",
      "source": [
        "# Membuat dataframe dari variabel cosine_sim dengan baris dan kolom berupa nama game\n",
        "cosine_sim_df = pd.DataFrame(cosine_sim, index=dataset['Name'], columns=dataset['Name'])\n",
        "print('Shape:', cosine_sim_df.shape)\n",
        " \n",
        "# Melihat similarity matrix pada setiap genre\n",
        "cosine_sim_df.sample(5, axis=1).sample(10, axis=0)"
      ],
      "metadata": {
        "execution": {
          "iopub.status.busy": "2022-12-02T23:41:28.868559Z",
          "iopub.execute_input": "2022-12-02T23:41:28.868945Z",
          "iopub.status.idle": "2022-12-02T23:41:28.892307Z",
          "shell.execute_reply.started": "2022-12-02T23:41:28.868909Z",
          "shell.execute_reply": "2022-12-02T23:41:28.891043Z"
        },
        "trusted": true,
        "id": "9eq4lGVRZNpm",
        "outputId": "a759a381-8a8b-4ffc-cf64-89e62d6b495b"
      },
      "execution_count": null,
      "outputs": [
        {
          "name": "stdout",
          "text": "Shape: (5031, 5031)\n",
          "output_type": "stream"
        },
        {
          "execution_count": 211,
          "output_type": "execute_result",
          "data": {
            "text/plain": "Name                               South Park: The Stick of Truth  \\\nName                                                                \nPokemon Art Academy                                           0.0   \nCode Lyoko: Quest for Infinity                                0.0   \nSplashDown                                                    0.0   \nJewel Quest: Expeditions                                      0.0   \nBullet Witch                                                  0.0   \nNASCAR The Game: Inside Line                                  0.0   \nHitman: Contracts                                             0.0   \nAr Nosurge: Ode to an Unborn Star                             1.0   \nDishonored 2                                                  0.0   \nDying Light                                                   0.0   \n\nName                               Disney's The Emperor's New Groove  \\\nName                                                                   \nPokemon Art Academy                                              0.0   \nCode Lyoko: Quest for Infinity                                   0.0   \nSplashDown                                                       0.0   \nJewel Quest: Expeditions                                         0.0   \nBullet Witch                                                     0.0   \nNASCAR The Game: Inside Line                                     0.0   \nHitman: Contracts                                                0.0   \nAr Nosurge: Ode to an Unborn Star                                0.0   \nDishonored 2                                                     0.0   \nDying Light                                                      0.0   \n\nName                               Dead Island: Riptide  Front Mission 4  \\\nName                                                                       \nPokemon Art Academy                                 0.0              0.0   \nCode Lyoko: Quest for Infinity                      1.0              0.0   \nSplashDown                                          0.0              0.0   \nJewel Quest: Expeditions                            0.0              0.0   \nBullet Witch                                        0.0              0.0   \nNASCAR The Game: Inside Line                        0.0              0.0   \nHitman: Contracts                                   0.0              0.0   \nAr Nosurge: Ode to an Unborn Star                   0.0              0.0   \nDishonored 2                                        1.0              0.0   \nDying Light                                         1.0              0.0   \n\nName                               Island Xtreme Stunts  \nName                                                     \nPokemon Art Academy                                 0.0  \nCode Lyoko: Quest for Infinity                      1.0  \nSplashDown                                          0.0  \nJewel Quest: Expeditions                            0.0  \nBullet Witch                                        0.0  \nNASCAR The Game: Inside Line                        0.0  \nHitman: Contracts                                   0.0  \nAr Nosurge: Ode to an Unborn Star                   0.0  \nDishonored 2                                        1.0  \nDying Light                                         1.0  ",
            "text/html": "<div>\n<style scoped>\n    .dataframe tbody tr th:only-of-type {\n        vertical-align: middle;\n    }\n\n    .dataframe tbody tr th {\n        vertical-align: top;\n    }\n\n    .dataframe thead th {\n        text-align: right;\n    }\n</style>\n<table border=\"1\" class=\"dataframe\">\n  <thead>\n    <tr style=\"text-align: right;\">\n      <th>Name</th>\n      <th>South Park: The Stick of Truth</th>\n      <th>Disney's The Emperor's New Groove</th>\n      <th>Dead Island: Riptide</th>\n      <th>Front Mission 4</th>\n      <th>Island Xtreme Stunts</th>\n    </tr>\n    <tr>\n      <th>Name</th>\n      <th></th>\n      <th></th>\n      <th></th>\n      <th></th>\n      <th></th>\n    </tr>\n  </thead>\n  <tbody>\n    <tr>\n      <th>Pokemon Art Academy</th>\n      <td>0.0</td>\n      <td>0.0</td>\n      <td>0.0</td>\n      <td>0.0</td>\n      <td>0.0</td>\n    </tr>\n    <tr>\n      <th>Code Lyoko: Quest for Infinity</th>\n      <td>0.0</td>\n      <td>0.0</td>\n      <td>1.0</td>\n      <td>0.0</td>\n      <td>1.0</td>\n    </tr>\n    <tr>\n      <th>SplashDown</th>\n      <td>0.0</td>\n      <td>0.0</td>\n      <td>0.0</td>\n      <td>0.0</td>\n      <td>0.0</td>\n    </tr>\n    <tr>\n      <th>Jewel Quest: Expeditions</th>\n      <td>0.0</td>\n      <td>0.0</td>\n      <td>0.0</td>\n      <td>0.0</td>\n      <td>0.0</td>\n    </tr>\n    <tr>\n      <th>Bullet Witch</th>\n      <td>0.0</td>\n      <td>0.0</td>\n      <td>0.0</td>\n      <td>0.0</td>\n      <td>0.0</td>\n    </tr>\n    <tr>\n      <th>NASCAR The Game: Inside Line</th>\n      <td>0.0</td>\n      <td>0.0</td>\n      <td>0.0</td>\n      <td>0.0</td>\n      <td>0.0</td>\n    </tr>\n    <tr>\n      <th>Hitman: Contracts</th>\n      <td>0.0</td>\n      <td>0.0</td>\n      <td>0.0</td>\n      <td>0.0</td>\n      <td>0.0</td>\n    </tr>\n    <tr>\n      <th>Ar Nosurge: Ode to an Unborn Star</th>\n      <td>1.0</td>\n      <td>0.0</td>\n      <td>0.0</td>\n      <td>0.0</td>\n      <td>0.0</td>\n    </tr>\n    <tr>\n      <th>Dishonored 2</th>\n      <td>0.0</td>\n      <td>0.0</td>\n      <td>1.0</td>\n      <td>0.0</td>\n      <td>1.0</td>\n    </tr>\n    <tr>\n      <th>Dying Light</th>\n      <td>0.0</td>\n      <td>0.0</td>\n      <td>1.0</td>\n      <td>0.0</td>\n      <td>1.0</td>\n    </tr>\n  </tbody>\n</table>\n</div>"
          },
          "metadata": {}
        }
      ]
    },
    {
      "cell_type": "markdown",
      "source": [
        "## 3.) Getting Recommendation"
      ],
      "metadata": {
        "id": "Cin0em9xZNpn"
      }
    },
    {
      "cell_type": "code",
      "source": [
        "def recommender_system(Name, k=500):\n",
        "    similarity_data = cosine_sim_df\n",
        "    items = dataset[['Name','Platform','Year_of_Release','Genre','Global_Sales','Critic_Score']]\n",
        "    genre = dataset.loc[dataset[\"Name\"] == Name].Genre.values\n",
        "\n",
        "    index = similarity_data.loc[:,Name].to_numpy().argpartition(range(-1, -k, -1))\n",
        "    closest = similarity_data.columns[index[-1:-(k+2):-1]]\n",
        "    closest = closest.drop(Name, errors='ignore')\n",
        "    \n",
        "    goat = dataset.sort_values(by=['Critic_Score'],ascending=False).head(3)\n",
        "    best_selling_genre = dataset.loc[dataset[\"Genre\"] == genre[0]].sort_values(by=['Global_Sales'],ascending=False).head(5)\n",
        "    recommendation = pd.DataFrame(closest).merge(items[['Name','Platform','Year_of_Release','Genre']]).head(k)\n",
        "    \n",
        "    return Name, goat, best_selling_genre, recommendation, genre"
      ],
      "metadata": {
        "execution": {
          "iopub.status.busy": "2022-12-02T23:41:28.899356Z",
          "iopub.execute_input": "2022-12-02T23:41:28.900031Z",
          "iopub.status.idle": "2022-12-02T23:41:28.910640Z",
          "shell.execute_reply.started": "2022-12-02T23:41:28.899986Z",
          "shell.execute_reply": "2022-12-02T23:41:28.909466Z"
        },
        "trusted": true,
        "id": "ANzpt6dfZNpn"
      },
      "execution_count": null,
      "outputs": []
    },
    {
      "cell_type": "code",
      "source": [
        "dataset[dataset['Name'].eq('Crash Team Racing')]"
      ],
      "metadata": {
        "execution": {
          "iopub.status.busy": "2022-12-02T23:41:28.912676Z",
          "iopub.execute_input": "2022-12-02T23:41:28.913216Z",
          "iopub.status.idle": "2022-12-02T23:41:28.932396Z",
          "shell.execute_reply.started": "2022-12-02T23:41:28.913138Z",
          "shell.execute_reply": "2022-12-02T23:41:28.930994Z"
        },
        "trusted": true,
        "id": "k1wO4gj5ZNpo",
        "outputId": "103b72fb-1ae5-4e15-ca36-fde30ef05d30"
      },
      "execution_count": null,
      "outputs": [
        {
          "execution_count": 213,
          "output_type": "execute_result",
          "data": {
            "text/plain": "                  Name Platform  Platform_General Year_of_Release   Genre  \\\n133  Crash Team Racing       PS  Sony_Playstation            1999  Racing   \n\n     Global_Sales  Critic_Score  \n133          4.79            88  ",
            "text/html": "<div>\n<style scoped>\n    .dataframe tbody tr th:only-of-type {\n        vertical-align: middle;\n    }\n\n    .dataframe tbody tr th {\n        vertical-align: top;\n    }\n\n    .dataframe thead th {\n        text-align: right;\n    }\n</style>\n<table border=\"1\" class=\"dataframe\">\n  <thead>\n    <tr style=\"text-align: right;\">\n      <th></th>\n      <th>Name</th>\n      <th>Platform</th>\n      <th>Platform_General</th>\n      <th>Year_of_Release</th>\n      <th>Genre</th>\n      <th>Global_Sales</th>\n      <th>Critic_Score</th>\n    </tr>\n  </thead>\n  <tbody>\n    <tr>\n      <th>133</th>\n      <td>Crash Team Racing</td>\n      <td>PS</td>\n      <td>Sony_Playstation</td>\n      <td>1999</td>\n      <td>Racing</td>\n      <td>4.79</td>\n      <td>88</td>\n    </tr>\n  </tbody>\n</table>\n</div>"
          },
          "metadata": {}
        }
      ]
    },
    {
      "cell_type": "code",
      "source": [
        "Name, goat, best_selling_genre, recommendation, genre = recommender_system(\"Crash Team Racing\")"
      ],
      "metadata": {
        "execution": {
          "iopub.status.busy": "2022-12-02T23:41:28.933841Z",
          "iopub.execute_input": "2022-12-02T23:41:28.934527Z",
          "iopub.status.idle": "2022-12-02T23:41:28.955521Z",
          "shell.execute_reply.started": "2022-12-02T23:41:28.934492Z",
          "shell.execute_reply": "2022-12-02T23:41:28.954518Z"
        },
        "trusted": true,
        "id": "PEt_kPlQZNpp"
      },
      "execution_count": null,
      "outputs": []
    },
    {
      "cell_type": "code",
      "source": [
        "print(\"Top 3 Greatest Games of All Time:\")\n",
        "print(\"-----\"*10)\n",
        "for row1 in goat.itertuples():\n",
        "    print('[Score: %d/100] %s (%s)'%(row1.Critic_Score,row1.Name,row1.Year_of_Release))\n",
        "\n",
        "print(\"=====\"*10)  \n",
        "print(\"Top 5 Best Selling %s Games of All Time:\"%genre[0])\n",
        "print(\"-----\"*10)\n",
        "for row2 in best_selling_genre.itertuples():\n",
        "    print('%s (%s) - %s'%(row2.Name,row2.Year_of_Release,row2.Platform))\n",
        "\n",
        "print(\"=====\"*10)\n",
        "print(\"Since you play %s,\"%Name)\n",
        "print(\"here are the Top 10 Games you probably like:\")\n",
        "print(\"-----\"*10)\n",
        "for row3 in recommendation.head(10).itertuples():\n",
        "    print('%s (%s) - %s'%(row3.Name,row3.Year_of_Release,row3.Platform))"
      ],
      "metadata": {
        "execution": {
          "iopub.status.busy": "2022-12-02T23:41:28.956708Z",
          "iopub.execute_input": "2022-12-02T23:41:28.957112Z",
          "iopub.status.idle": "2022-12-02T23:41:28.970242Z",
          "shell.execute_reply.started": "2022-12-02T23:41:28.957076Z",
          "shell.execute_reply": "2022-12-02T23:41:28.968868Z"
        },
        "trusted": true,
        "id": "oaNxHmqxZNpp",
        "outputId": "b8341d65-c26b-413e-fa57-3d32524a4a72"
      },
      "execution_count": null,
      "outputs": [
        {
          "name": "stdout",
          "text": "Top 3 Greatest Games of All Time:\n--------------------------------------------------\n[Score: 98/100] Grand Theft Auto IV (2008)\n[Score: 98/100] Tony Hawk's Pro Skater 2 (2000)\n[Score: 98/100] SoulCalibur (1999)\n==================================================\nTop 5 Best Selling Racing Games of All Time:\n--------------------------------------------------\nMario Kart Wii (2008) - Wii\nMario Kart DS (2005) - DS\nGran Turismo 3: A-Spec (2001) - PS2\nMario Kart 7 (2011) - 3DS\nGran Turismo 4 (2004) - PS2\n==================================================\nSince you play Crash Team Racing,\nhere are the Top 10 Games you probably like:\n--------------------------------------------------\nL.A. Rush (2005) - Multi_Platform\nGT Advance 2: Rally Racing (2001) - GBA\nF1 2002 (2002) - Multi_Platform\nBurnout (2001) - Multi_Platform\nBlood Drive (2010) - Multi_Platform\nCruis'n (2007) - Wii\nnail'd (2010) - Multi_Platform\nPokemon Dash (2004) - DS\nBlur (2010) - Multi_Platform\nPimp My Ride (2008) - Multi_Platform\n",
          "output_type": "stream"
        }
      ]
    },
    {
      "cell_type": "markdown",
      "source": [
        "# Evaluate"
      ],
      "metadata": {
        "id": "qi-cpIIWZNpq"
      }
    },
    {
      "cell_type": "code",
      "source": [
        "recommendation[\"Genre\"].value_counts()"
      ],
      "metadata": {
        "execution": {
          "iopub.status.busy": "2022-12-02T23:41:28.971769Z",
          "iopub.execute_input": "2022-12-02T23:41:28.972226Z",
          "iopub.status.idle": "2022-12-02T23:41:28.985635Z",
          "shell.execute_reply.started": "2022-12-02T23:41:28.972189Z",
          "shell.execute_reply": "2022-12-02T23:41:28.984602Z"
        },
        "trusted": true,
        "id": "r-8BhKHGZNpq",
        "outputId": "caab0413-0d95-44a3-e29a-b6f6e025d36c"
      },
      "execution_count": null,
      "outputs": [
        {
          "execution_count": 216,
          "output_type": "execute_result",
          "data": {
            "text/plain": "Racing          425\nAction           16\nSports           16\nRole_Playing     12\nShooter           8\nMisc              8\nFighting          6\nPlatform          3\nSimulation        2\nAdventure         2\nPuzzle            1\nStrategy          1\nName: Genre, dtype: int64"
          },
          "metadata": {}
        }
      ]
    },
    {
      "cell_type": "code",
      "source": [
        "relevan = tidak_relevan = 0\n",
        "\n",
        "for checking in recommendation.itertuples():\n",
        "    if checking.Genre == genre[0]:\n",
        "        relevan+=1\n",
        "    else:\n",
        "        tidak_relevan+=1\n",
        "        \n",
        "print(\"Out of a total of 500 recommendation lists,\")\n",
        "print(\"- Number of relevant recommendations:\",relevan)\n",
        "print(\"- Number of irrelevant recommendations:\",tidak_relevan)\n",
        "print(\"Precision Score =\",(relevan/500))"
      ],
      "metadata": {
        "execution": {
          "iopub.status.busy": "2022-12-03T00:29:26.930677Z",
          "iopub.execute_input": "2022-12-03T00:29:26.931112Z",
          "iopub.status.idle": "2022-12-03T00:29:26.940145Z",
          "shell.execute_reply.started": "2022-12-03T00:29:26.931076Z",
          "shell.execute_reply": "2022-12-03T00:29:26.938934Z"
        },
        "trusted": true,
        "id": "03mekpwBZNpr",
        "outputId": "466e3584-30cf-4e6b-f9de-6929d6c56d0e"
      },
      "execution_count": null,
      "outputs": [
        {
          "name": "stdout",
          "text": "Out of a total of 500 recommendation lists,\n- Number of relevant recommendations: 425\n- Number of irrelevant recommendations: 75\nPrecision Score = 0.85\n",
          "output_type": "stream"
        }
      ]
    }
  ]
}